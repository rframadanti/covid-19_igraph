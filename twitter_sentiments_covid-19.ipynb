{
 "cells": [
  {
   "cell_type": "code",
   "execution_count": 2,
   "metadata": {},
   "outputs": [
    {
     "name": "stderr",
     "output_type": "stream",
     "text": [
      "\n",
      "Bad key \"“backend\" on line 1 in\n",
      "/Users/rfdanti/.matplotlib/matplotlibrc.\n",
      "You probably need to get an updated matplotlibrc file from\n",
      "https://github.com/matplotlib/matplotlib/blob/v3.2.1/matplotlibrc.template\n",
      "or from the matplotlib source distribution\n"
     ]
    }
   ],
   "source": [
    "from textblob import TextBlob\n",
    "import csv\n",
    "import tweepy\n",
    "import unidecode\n",
    "import pandas as pd\n",
    "import matplotlib.pyplot as plt\n",
    "import numpy as np"
   ]
  },
  {
   "cell_type": "code",
   "execution_count": 3,
   "metadata": {},
   "outputs": [],
   "source": [
    "# AUTHENTICATION (OAuth)\n",
    "f = open('auth.k','r')\n",
    "ak = f.readlines()\n",
    "f.close()\n",
    "auth1 = tweepy.auth.OAuthHandler(ak[0].replace(\"\\n\",\"\"), ak[1].replace(\"\\n\",\"\"))\n",
    "auth1.set_access_token(ak[2].replace(\"\\n\",\"\"), ak[3].replace(\"\\n\",\"\"))\n",
    "api = tweepy.API(auth1)"
   ]
  },
  {
   "cell_type": "code",
   "execution_count": 4,
   "metadata": {},
   "outputs": [],
   "source": [
    "def twitter_search(num, keyword, filename):\n",
    "    # Twitter search with keyword\n",
    "    target_num = num\n",
    "    query = keyword\n",
    "\n",
    "    csvFile = open(filename,'w')\n",
    "    csvWriter = csv.writer(csvFile)\n",
    "    csvWriter.writerow([\"username\",\"author id\",\"created\", \"text\", \"retwc\", \"hashtag\", \"followers\", \"friends\",\"polarity\",\"subjectivity\"])\n",
    "    counter = 0\n",
    "\n",
    "    for tweet in tweepy.Cursor(api.search, q = query, lang = \"en\", result_type = \"popular\", count = target_num).items():\n",
    "        created = tweet.created_at\n",
    "        text = tweet.text\n",
    "        text = unidecode.unidecode(text) \n",
    "        retwc = tweet.retweet_count\n",
    "        try:\n",
    "            hashtag = tweet.entities[u'hashtags'][0][u'text'] #hashtags used\n",
    "        except:\n",
    "            hashtag = \"None\"\n",
    "        username  = tweet.author.name            #author/user name\n",
    "        authorid  = tweet.author.id              #author/user ID#\n",
    "        followers = tweet.author.followers_count #number of author/user followers (inlink)\n",
    "        friends = tweet.author.friends_count     #number of author/user friends (outlink)\n",
    "\n",
    "        # Calculate polarity and subjectivity\n",
    "        text_blob = TextBlob(text)\n",
    "        polarity = text_blob.polarity\n",
    "        subjectivity = text_blob.subjectivity\n",
    "        csvWriter.writerow([username, authorid, created, text, retwc, hashtag, followers, friends, polarity, subjectivity])\n",
    "\n",
    "        counter = counter + 1\n",
    "        if (counter == target_num):\n",
    "            break\n",
    "\n",
    "    csvFile.close()"
   ]
  },
  {
   "cell_type": "code",
   "execution_count": 6,
   "metadata": {
    "scrolled": true
   },
   "outputs": [
    {
     "name": "stdout",
     "output_type": "stream",
     "text": [
      "              author id     retwc  followers   friends  polarity  subjectivity\n",
      "author id      1.000000 -0.105384  -0.038984 -0.039265 -0.080998     -0.134172\n",
      "retwc         -0.105384  1.000000   0.545638  0.291684 -0.054419      0.017577\n",
      "followers     -0.038984  0.545638   1.000000  0.441935  0.110231      0.006894\n",
      "friends       -0.039265  0.291684   0.441935  1.000000 -0.002093      0.007301\n",
      "polarity      -0.080998 -0.054419   0.110231 -0.002093  1.000000      0.308549\n",
      "subjectivity  -0.134172  0.017577   0.006894  0.007301  0.308549      1.000000\n"
     ]
    }
   ],
   "source": [
    "twitter_search(1000, \"covid-19\", \"results_covid-19.csv\")\n",
    "covid19 = pd.read_csv('results_covid-19.csv')\n",
    "print(covid19.corr())"
   ]
  },
  {
   "cell_type": "code",
   "execution_count": 7,
   "metadata": {
    "scrolled": true
   },
   "outputs": [
    {
     "data": {
      "text/plain": [
       "Text(0, 0.5, 'Polarity')"
      ]
     },
     "execution_count": 7,
     "metadata": {},
     "output_type": "execute_result"
    },
    {
     "data": {
      "image/png": "[encoded data removed]",
      "text/plain": [
       "<Figure size 432x288 with 1 Axes>"
      ]
     },
     "metadata": {
      "needs_background": "light"
     },
     "output_type": "display_data"
    }
   ],
   "source": [
    "plt.scatter(covid19.followers,covid19.polarity)\n",
    "plt.xlabel(\"Followers\")\n",
    "plt.ylabel(\"Polarity\")"
   ]
  },
  {
   "cell_type": "code",
   "execution_count": 8,
   "metadata": {},
   "outputs": [
    {
     "name": "stdout",
     "output_type": "stream",
     "text": [
      "                            OLS Regression Results                            \n",
      "==============================================================================\n",
      "Dep. Variable:               polarity   R-squared:                       0.012\n",
      "Model:                            OLS   Adj. R-squared:                  0.001\n",
      "Method:                 Least Squares   F-statistic:                     1.082\n",
      "Date:                Fri, 29 May 2020   Prob (F-statistic):              0.301\n",
      "Time:                        14:33:15   Log-Likelihood:                -9.1237\n",
      "No. Observations:                  90   AIC:                             22.25\n",
      "Df Residuals:                      88   BIC:                             27.25\n",
      "Df Model:                           1                                         \n",
      "Covariance Type:            nonrobust                                         \n",
      "==============================================================================\n",
      "                 coef    std err          t      P>|t|      [0.025      0.975]\n",
      "------------------------------------------------------------------------------\n",
      "const          0.0933      0.031      3.045      0.003       0.032       0.154\n",
      "followers   1.463e-09   1.41e-09      1.040      0.301   -1.33e-09    4.26e-09\n",
      "==============================================================================\n",
      "Omnibus:                       11.420   Durbin-Watson:                   2.092\n",
      "Prob(Omnibus):                  0.003   Jarque-Bera (JB):               33.868\n",
      "Skew:                          -0.004   Prob(JB):                     4.42e-08\n",
      "Kurtosis:                       6.005   Cond. No.                     2.34e+07\n",
      "==============================================================================\n",
      "\n",
      "Warnings:\n",
      "[1] Standard Errors assume that the covariance matrix of the errors is correctly specified.\n",
      "[2] The condition number is large, 2.34e+07. This might indicate that there are\n",
      "strong multicollinearity or other numerical problems.\n"
     ]
    }
   ],
   "source": [
    "import statsmodels.api as sm\n",
    "y = covid19.polarity\n",
    "X = covid19.followers\n",
    "X = sm.add_constant(X)\n",
    "\n",
    "lr_model = sm.OLS(y, X).fit()\n",
    "print(lr_model.summary())"
   ]
  }
 ],
 "metadata": {
  "kernelspec": {
   "display_name": "Python 3",
   "language": "python",
   "name": "python3"
  },
  "language_info": {
   "codemirror_mode": {
    "name": "ipython",
    "version": 3
   },
   "file_extension": ".py",
   "mimetype": "text/x-python",
   "name": "python",
   "nbconvert_exporter": "python",
   "pygments_lexer": "ipython3",
   "version": "3.7.7"
  }
 },
 "nbformat": 4,
 "nbformat_minor": 4
}
